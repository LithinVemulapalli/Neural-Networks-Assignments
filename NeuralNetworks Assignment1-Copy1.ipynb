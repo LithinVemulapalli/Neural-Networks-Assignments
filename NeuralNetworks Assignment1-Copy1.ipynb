{
 "cells": [
  {
   "cell_type": "code",
   "execution_count": 33,
   "metadata": {},
   "outputs": [
    {
     "name": "stdout",
     "output_type": "stream",
     "text": [
      "Enter a string: python\n",
      "noyp\n"
     ]
    }
   ],
   "source": [
    "#1. Write a python program for the following:\n",
    "#Input the string “Python” as a list of characters from console, delete at least 2 characters, reverse the\n",
    "#resultantstring and print it.\n",
    "\n",
    "s = input(\"Enter a string: \")\n",
    "s=s.replace(\"t\",\"\")\n",
    "s=s.replace(\"h\",\"\")\n",
    "print (s[::-1])\n"
   ]
  },
  {
   "cell_type": "code",
   "execution_count": 37,
   "metadata": {},
   "outputs": [
    {
     "name": "stdout",
     "output_type": "stream",
     "text": [
      "Enter First number: 45\n",
      "Enter Second number 20\n",
      "addition of  45 and 20 is : 65\n",
      "subtraction  45 and 20 is : 25\n",
      "multiplicaion of 45 and 20 is : 900\n",
      "Division of  45 and 20 is : 2.25\n"
     ]
    }
   ],
   "source": [
    "#Take two numbers from user and perform at least 4 arithmetic operations on them.\n",
    "num1 = int(input('Enter First number: '))\n",
    "num2 = int(input('Enter Second number '))\n",
    "add = num1 + num2\n",
    "sub = num1 - num2\n",
    "mul = num1 * num2\n",
    "div = num1 / num2\n",
    "print('addition of ',num1 ,'and' ,num2 ,'is :',add)\n",
    "print('subtraction ',num1 ,'and' ,num2 ,'is :',sub)\n",
    "print('multiplicaion of' ,num1 ,'and' ,num2 ,'is :',mul)\n",
    "print('Division of ',num1 ,'and' ,num2 ,'is :',div)"
   ]
  },
  {
   "cell_type": "code",
   "execution_count": 51,
   "metadata": {},
   "outputs": [
    {
     "name": "stdout",
     "output_type": "stream",
     "text": [
      "Modified string : \n",
      "I love playing with pythons\n"
     ]
    }
   ],
   "source": [
    "#Write a program that accepts a sentence and replace each occurrence of ‘python’ with ‘pythons’.\n",
    "\n",
    "# declaring a string variable\n",
    "string = \"I love playing with python\"\n",
    " \n",
    "# replacing letter python with pythons\n",
    "string = string.replace('python', 'pythons')\n",
    "print(\"Modified string : \")\n",
    "print(string)"
   ]
  },
  {
   "cell_type": "code",
   "execution_count": 69,
   "metadata": {},
   "outputs": [
    {
     "name": "stdout",
     "output_type": "stream",
     "text": [
      "Enter Score Grade:95\n",
      "grade A\n"
     ]
    }
   ],
   "source": [
    "#Use the if statement conditions to write a program to print the letter grade based on an input class score. Use the\n",
    "#grading scheme we are using in this class.\n",
    "score = input(\"Enter Score Grade:\")\n",
    "score = int(float(score))\n",
    "if score < 60:\n",
    "    print(\"Your grade is an F\")\n",
    "elif score <= 70:\n",
    "    print(\"grade D\")\n",
    "elif score <= 80:\n",
    "    print(\"grade C\")\n",
    "elif score <= 90:\n",
    "    print(\"grade B\") \n",
    "elif score <= 100:\n",
    "    print(\"grade A\")\n",
    "else:\n",
    "    print(\"Invalid score\")"
   ]
  }
 ],
 "metadata": {
  "kernelspec": {
   "display_name": "Python 3",
   "language": "python",
   "name": "python3"
  },
  "language_info": {
   "codemirror_mode": {
    "name": "ipython",
    "version": 3
   },
   "file_extension": ".py",
   "mimetype": "text/x-python",
   "name": "python",
   "nbconvert_exporter": "python",
   "pygments_lexer": "ipython3",
   "version": "3.6.5"
  }
 },
 "nbformat": 4,
 "nbformat_minor": 2
}
