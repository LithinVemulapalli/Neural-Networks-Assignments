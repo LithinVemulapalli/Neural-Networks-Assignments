{
 "cells": [
  {
   "cell_type": "code",
   "execution_count": 7,
   "metadata": {},
   "outputs": [],
   "source": [
    "import pandas as pd\n",
    "import numpy as np\n",
    "from sklearn.model_selection import train_test_split\n",
    "from sklearn.naive_bayes import GaussianNB\n",
    "from sklearn.metrics import classification_report, accuracy_score"
   ]
  },
  {
   "cell_type": "code",
   "execution_count": 20,
   "metadata": {},
   "outputs": [],
   "source": [
    "glass_data = pd.read_csv('D:/NeuralNetworks/NNDL_Code and Data/glass.csv')"
   ]
  },
  {
   "cell_type": "code",
   "execution_count": 26,
   "metadata": {},
   "outputs": [
    {
     "name": "stdout",
     "output_type": "stream",
     "text": [
      "Accuracy: 0.5538461538461539\n",
      "Classification Report:\n",
      "               precision    recall  f1-score   support\n",
      "\n",
      "           1       0.47      0.85      0.61        20\n",
      "           2       0.57      0.15      0.24        26\n",
      "           3       0.00      0.00      0.00         1\n",
      "           5       0.40      0.50      0.44         4\n",
      "           6       1.00      0.67      0.80         3\n",
      "           7       0.79      1.00      0.88        11\n",
      "\n",
      "   micro avg       0.55      0.55      0.55        65\n",
      "   macro avg       0.54      0.53      0.50        65\n",
      "weighted avg       0.58      0.55      0.50        65\n",
      "\n"
     ]
    }
   ],
   "source": [
    "# Split the dataset into features and target\n",
    "X = glass_data.iloc[:, :-1]\n",
    "y = glass_data.iloc[:, -1]\n",
    "\n",
    "# Split the dataset into training and testing parts\n",
    "X_train, X_test, y_train, y_test = train_test_split(X, y, test_size=0.3, random_state=4)\n",
    "\n",
    "# Fit the Naive Bayes model on the training data\n",
    "glass_nb = GaussianNB()\n",
    "glass_nb.fit(X_train, y_train)\n",
    "\n",
    "# Predict the target on the test data\n",
    "y_pred = glass_nb.predict(X_test)\n",
    "\n",
    "# Evaluate the model on the test data\n",
    "print(\"Accuracy:\", accuracy_score(y_test, y_pred))\n",
    "print(\"Classification Report:\\n\", classification_report(y_test, y_pred))\n",
    "\n"
   ]
  },
  {
   "cell_type": "code",
   "execution_count": 22,
   "metadata": {},
   "outputs": [],
   "source": [
    "from sklearn import svm\n"
   ]
  },
  {
   "cell_type": "code",
   "execution_count": 27,
   "metadata": {},
   "outputs": [
    {
     "name": "stdout",
     "output_type": "stream",
     "text": [
      "Accuracy: 0.616822429906542\n",
      "Classification Report:\n",
      "               precision    recall  f1-score   support\n",
      "\n",
      "           1       0.59      0.73      0.65        33\n",
      "           2       0.60      0.60      0.60        40\n",
      "           3       0.00      0.00      0.00         6\n",
      "           5       0.50      0.71      0.59         7\n",
      "           6       1.00      0.14      0.25         7\n",
      "           7       0.80      0.86      0.83        14\n",
      "\n",
      "   micro avg       0.62      0.62      0.62       107\n",
      "   macro avg       0.58      0.51      0.49       107\n",
      "weighted avg       0.61      0.62      0.59       107\n",
      "\n"
     ]
    },
    {
     "name": "stderr",
     "output_type": "stream",
     "text": [
      "C:\\Users\\vlith\\Anaconda3\\lib\\site-packages\\sklearn\\metrics\\classification.py:1143: UndefinedMetricWarning: Precision and F-score are ill-defined and being set to 0.0 in labels with no predicted samples.\n",
      "  'precision', 'predicted', average, warn_for)\n"
     ]
    }
   ],
   "source": [
    "# Split the dataset into features and target\n",
    "X = glass_data.iloc[:, :-1]\n",
    "y = glass_data.iloc[:, -1]\n",
    "\n",
    "# Split the dataset into training and testing parts\n",
    "X_train, X_test, y_train, y_test = train_test_split(X, y, test_size=0.5, random_state=4)\n",
    "\n",
    "# Fit the linear SVM model on the training data\n",
    "svm_l = svm.SVC(kernel='linear')\n",
    "svm_l.fit(X_train, y_train)\n",
    "\n",
    "# Predict the target on the test data\n",
    "y_pred = svm_l.predict(X_test)\n",
    "\n",
    "# Evaluate the model on the test data\n",
    "print(\"Accuracy:\", accuracy_score(y_test, y_pred))\n",
    "print(\"Classification Report:\\n\", classification_report(y_test, y_pred))\n"
   ]
  },
  {
   "cell_type": "code",
   "execution_count": null,
   "metadata": {},
   "outputs": [],
   "source": []
  }
 ],
 "metadata": {
  "kernelspec": {
   "display_name": "Python 3",
   "language": "python",
   "name": "python3"
  },
  "language_info": {
   "codemirror_mode": {
    "name": "ipython",
    "version": 3
   },
   "file_extension": ".py",
   "mimetype": "text/x-python",
   "name": "python",
   "nbconvert_exporter": "python",
   "pygments_lexer": "ipython3",
   "version": "3.6.5"
  }
 },
 "nbformat": 4,
 "nbformat_minor": 2
}
