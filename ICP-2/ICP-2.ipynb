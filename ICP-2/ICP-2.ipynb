{
 "cells": [
  {
   "cell_type": "code",
   "execution_count": 1,
   "metadata": {},
   "outputs": [
    {
     "name": "stdout",
     "output_type": "stream",
     "text": [
      "Please input your first name: Lithin Chowdary\n",
      "Please input your last name: Vemulapalli\n",
      "Vemulapalli, Lithin Chowdary\n"
     ]
    }
   ],
   "source": [
    "#1a\n",
    "first_name = input('Please input your first name: ')\n",
    "last_name = input('Please input your last name: ')\n",
    "print(last_name + ', ' + first_name)"
   ]
  },
  {
   "cell_type": "code",
   "execution_count": 2,
   "metadata": {},
   "outputs": [
    {
     "name": "stdout",
     "output_type": "stream",
     "text": [
      "string : Good Evening\n",
      "Every Other Character: Go vnn\n"
     ]
    }
   ],
   "source": [
    "#1b\n",
    "string = \"Good Evening\"\n",
    "def string_alternative(string):\n",
    "    return string[::2]\n",
    "\n",
    "\n",
    "# Get the full name using the fullname function\n",
    "string_name = str(string)\n",
    "\n",
    "# Print the result\n",
    "print(f\"string : {string_name}\")\n",
    "\n",
    "# Get every other character in the full name using the string_alternative function\n",
    "result = string_alternative(string_name)\n",
    "\n",
    "# Print every other character in the full name\n",
    "print(f\"Every Other Character: {result}\")"
   ]
  },
  {
   "cell_type": "code",
   "execution_count": 8,
   "metadata": {},
   "outputs": [
    {
     "name": "stdout",
     "output_type": "stream",
     "text": [
      "Python\t1\n",
      "Course\t2\n",
      "Deep\t1\n",
      "Learning\t1\n"
     ]
    }
   ],
   "source": [
    "#2A\n",
    "\n",
    "file = open(r\"D:\\OneDrive\\Desktop\\NND.txt\", \"r\", encoding=\"utf-8-sig\")\n",
    "\n",
    "from collections import Counter\n",
    "word_counter = Counter(file.read().split())\n",
    "\n",
    "#for item in word_counter.items():\n",
    "   # print(\"{}\\t{}\".format(*item))\n",
    "\n",
    "file.close()\n",
    "with open(\"D:\\OneDrive\\Documents\\Output_file.txt\", 'w') as file:\n",
    "    # Write the word count for each word to the file\n",
    "    for word, count in word_counter.items():\n",
    "        file.write(f'{word}: {count}\\n')\n",
    "        print(\"{}\\t{}\".format(word,count))"
   ]
  },
  {
   "cell_type": "code",
   "execution_count": 9,
   "metadata": {},
   "outputs": [
    {
     "name": "stdout",
     "output_type": "stream",
     "text": [
      "Enter heights in inches separated by space: 150 155 145 148\n",
      "Heights in Centimeters (Using Loop): [381.0, 393.7, 368.3, 375.92]\n",
      "Heights in Centimeters (List Comprehensions): [381.0, 393.7, 368.3, 375.92]\n"
     ]
    }
   ],
   "source": [
    "#3A\n",
    "def convert_heights_loop(height_inches):\n",
    "    height_centimeters = []\n",
    "    for height in height_inches:\n",
    "        centimeters = height * 2.54\n",
    "        height_centimeters.append(centimeters)\n",
    "    return height_centimeters\n",
    "\n",
    "# Function for converting heights to centimeters using list comprehensions\n",
    "def convert_heights_list_comprehension(height_inches):\n",
    "    return [height * 2.54 for height in height_inches]\n",
    "\n",
    "def main():\n",
    "    # Read heights in inches from the user\n",
    "    height_inches = [float(height) for height in input(\"Enter heights in inches separated by space: \").split()]\n",
    "\n",
    "    # Convert heights using the loop function\n",
    "    heights_cm_loop = convert_heights_loop(height_inches)\n",
    "    print(\"Heights in Centimeters (Using Loop):\", heights_cm_loop)\n",
    "\n",
    "    # Convert heights using list comprehensions\n",
    "    hgh_cm_list_comp = convert_heights_list_comprehension(height_inches)\n",
    "    print(\"Heights in Centimeters (List Comprehensions):\", hgh_cm_list_comp)\n",
    "\n",
    "if __name__ == \"__main__\":\n",
    "    main()\n"
   ]
  }
 ],
 "metadata": {
  "kernelspec": {
   "display_name": "Python 3",
   "language": "python",
   "name": "python3"
  },
  "language_info": {
   "codemirror_mode": {
    "name": "ipython",
    "version": 3
   },
   "file_extension": ".py",
   "mimetype": "text/x-python",
   "name": "python",
   "nbconvert_exporter": "python",
   "pygments_lexer": "ipython3",
   "version": "3.6.5"
  }
 },
 "nbformat": 4,
 "nbformat_minor": 2
}
