{
 "cells": [
  {
   "cell_type": "code",
   "execution_count": 1,
   "metadata": {},
   "outputs": [
    {
     "name": "stdout",
     "output_type": "stream",
     "text": [
      "Basic Statistical Description:\n",
      "         Duration       Pulse    Maxpulse     Calories\n",
      "count  169.000000  169.000000  169.000000   164.000000\n",
      "mean    63.846154  107.461538  134.047337   375.790244\n",
      "std     42.299949   14.510259   16.450434   266.379919\n",
      "min     15.000000   80.000000  100.000000    50.300000\n",
      "25%     45.000000  100.000000  124.000000   250.925000\n",
      "50%     60.000000  105.000000  131.000000   318.600000\n",
      "75%     60.000000  111.000000  141.000000   387.600000\n",
      "max    300.000000  159.000000  184.000000  1860.400000\n",
      "\n",
      "Checking for Null Values:\n",
      "Duration    0\n",
      "Pulse       0\n",
      "Maxpulse    0\n",
      "Calories    5\n",
      "dtype: int64\n",
      "\n",
      "Aggregated Data for 'Duration' and 'Calories':\n",
      "         Duration     Calories\n",
      "min     15.000000    50.300000\n",
      "max    300.000000  1860.400000\n",
      "count  169.000000   169.000000\n",
      "mean    63.846154   375.790244\n"
     ]
    },
    {
     "data": {
      "text/plain": [
       "<Figure size 640x480 with 1 Axes>"
      ]
     },
     "metadata": {},
     "output_type": "display_data"
    }
   ],
   "source": [
    "import pandas as pd\n",
    "\n",
    "# a. Read the provided CSV file 'data.csv'\n",
    "data_df = pd.read_csv('data.csv')\n",
    "\n",
    "\n",
    "\n",
    "# d. Check if the data has null values.\n",
    "print(\"\\nChecking for Null Values:\")\n",
    "print(data_df.isnull().sum())\n",
    "\n",
    "# i. Replace the null values with the mean\n",
    "data_df.fillna(data_df.mean(), inplace=True)\n",
    "\n",
    "# e. Select at least two columns and aggregate the data using: min, max, count, mean.\n",
    "agg_columns = ['Duration', 'Calories']\n",
    "aggregated_data = data_df[agg_columns].agg(['min', 'max', 'count', 'mean'])\n",
    "print(\"\\nAggregated Data for 'Duration' and 'Calories':\")\n",
    "print(aggregated_data)\n",
    "\n",
    "# f. Filter the dataframe to select the rows with calories values between 500 and 1000.\n",
    "filtered_data = data_df[(data_df['Calories'] >= 500) & (data_df['Calories'] <= 1000)]\n",
    "\n",
    "# g. Filter the dataframe to select the rows with calories values > 500 and pulse < 100.\n",
    "filtered_data_2 = data_df[(data_df['Calories'] > 500) & (data_df['Pulse'] < 100)]\n",
    "\n",
    "# h. Create a new “df_modified” dataframe that contains all the columns from df except for “Maxpulse”.\n",
    "df_modified = data_df.drop(columns=['Maxpulse'])\n",
    "\n",
    "# i. Delete the “Maxpulse” column from the main df dataframe\n",
    "data_df.drop(columns=['Maxpulse'], inplace=True)\n",
    "\n",
    "# j. Convert the datatype of Calories column to int datatype.\n",
    "data_df['Calories'] = data_df['Calories'].astype(int)\n",
    "\n",
    "# k. Using pandas, create a scatter plot for the two columns (Duration and Calories).\n",
    "import matplotlib.pyplot as plt\n",
    "plt.scatter(data_df['Duration'], data_df['Calories'])\n",
    "plt.xlabel('Duration')\n",
    "plt.ylabel('Calories')\n",
    "plt.title('Scatter Plot of Duration vs. Calories')\n",
    "plt.show()\n"
   ]
  },
  {
   "cell_type": "code",
   "execution_count": 9,
   "metadata": {},
   "outputs": [],
   "source": [
    "# a. Read the provided CSV file 'data.csv'\n",
    "data_df = pd.read_csv('data.csv')"
   ]
  },
  {
   "cell_type": "code",
   "execution_count": 10,
   "metadata": {},
   "outputs": [
    {
     "name": "stdout",
     "output_type": "stream",
     "text": [
      "Basic Statistical Description:\n",
      "         Duration       Pulse    Maxpulse     Calories\n",
      "count  169.000000  169.000000  169.000000   164.000000\n",
      "mean    63.846154  107.461538  134.047337   375.790244\n",
      "std     42.299949   14.510259   16.450434   266.379919\n",
      "min     15.000000   80.000000  100.000000    50.300000\n",
      "25%     45.000000  100.000000  124.000000   250.925000\n",
      "50%     60.000000  105.000000  131.000000   318.600000\n",
      "75%     60.000000  111.000000  141.000000   387.600000\n",
      "max    300.000000  159.000000  184.000000  1860.400000\n"
     ]
    }
   ],
   "source": [
    "# c. Show the basic statistical description about the data.\n",
    "print(\"Basic Statistical Description:\")\n",
    "print(data_df.describe())"
   ]
  },
  {
   "cell_type": "code",
   "execution_count": 11,
   "metadata": {},
   "outputs": [
    {
     "name": "stdout",
     "output_type": "stream",
     "text": [
      "\n",
      "Checking for Null Values:\n",
      "Duration    0\n",
      "Pulse       0\n",
      "Maxpulse    0\n",
      "Calories    5\n",
      "dtype: int64\n"
     ]
    }
   ],
   "source": [
    "# d. Check if the data has null values.\n",
    "print(\"\\nChecking for Null Values:\")\n",
    "print(data_df.isnull().sum())"
   ]
  },
  {
   "cell_type": "code",
   "execution_count": 12,
   "metadata": {},
   "outputs": [],
   "source": [
    "# i. Replace the null values with the mean\n",
    "data_df.fillna(data_df.mean(), inplace=True)"
   ]
  },
  {
   "cell_type": "code",
   "execution_count": 13,
   "metadata": {},
   "outputs": [
    {
     "name": "stdout",
     "output_type": "stream",
     "text": [
      "\n",
      "Aggregated Data for 'Duration' and 'Calories':\n",
      "         Duration     Calories\n",
      "min     15.000000    50.300000\n",
      "max    300.000000  1860.400000\n",
      "count  169.000000   169.000000\n",
      "mean    63.846154   375.790244\n"
     ]
    }
   ],
   "source": [
    "# e. Select at least two columns and aggregate the data using: min, max, count, mean.\n",
    "#print(data_df.columns)\n",
    "agg_columns = ['Duration', 'Calories']\n",
    "aggregated_data = data_df[agg_columns].agg(['min', 'max', 'count', 'mean'])\n",
    "print(\"\\nAggregated Data for 'Duration' and 'Calories':\")\n",
    "print(aggregated_data)"
   ]
  },
  {
   "cell_type": "code",
   "execution_count": 14,
   "metadata": {},
   "outputs": [],
   "source": [
    "# f. Filter the dataframe to select the rows with calories values between 500 and 1000.\n",
    "filtered_data = data_df[(data_df['Calories'] >= 500) & (data_df['Calories'] <= 1000)]"
   ]
  },
  {
   "cell_type": "code",
   "execution_count": 15,
   "metadata": {},
   "outputs": [],
   "source": [
    "# g. Filter the dataframe to select the rows with calories values > 500 and pulse < 100.\n",
    "filtered_data_2 = data_df[(data_df['Calories'] > 500) & (data_df['Pulse'] < 100)]"
   ]
  },
  {
   "cell_type": "code",
   "execution_count": 16,
   "metadata": {},
   "outputs": [],
   "source": [
    "\n",
    "# h. Create a new “df_modified” dataframe that contains all the columns from df except for “Maxpulse”.\n",
    "df_modified = data_df.drop(columns=['Maxpulse'])"
   ]
  },
  {
   "cell_type": "code",
   "execution_count": 17,
   "metadata": {},
   "outputs": [],
   "source": [
    "# i. Delete the “Maxpulse” column from the main df dataframe\n",
    "data_df.drop(columns=['Maxpulse'], inplace=True)"
   ]
  },
  {
   "cell_type": "code",
   "execution_count": 18,
   "metadata": {},
   "outputs": [],
   "source": [
    "# j. Convert the datatype of Calories column to int datatype.\n",
    "data_df['Calories'] = data_df['Calories'].astype(int)"
   ]
  },
  {
   "cell_type": "code",
   "execution_count": 19,
   "metadata": {},
   "outputs": [
    {
     "data": {
      "image/png": "[encoded data removed]",
      "text/plain": [
       "<Figure size 432x288 with 1 Axes>"
      ]
     },
     "metadata": {},
     "output_type": "display_data"
    }
   ],
   "source": [
    "# k. Using pandas, create a scatter plot for the two columns (Duration and Calories).\n",
    "import matplotlib.pyplot as plt\n",
    "plt.scatter(data_df['Duration'], data_df['Calories'])\n",
    "plt.xlabel('Duration')\n",
    "plt.ylabel('Calories')\n",
    "plt.title('Scatter Plot of Duration vs. Calories')\n",
    "plt.show()"
   ]
  },
  {
   "cell_type": "code",
   "execution_count": 20,
   "metadata": {},
   "outputs": [
    {
     "name": "stdout",
     "output_type": "stream",
     "text": [
      "Mean Squared Error (Train): 36852948.76438455\n",
      "Mean Squared Error (Test): 21026037.329511296\n"
     ]
    },
    {
     "data": {
      "image/png": "[encoded data removed]",
      "text/plain": [
       "<Figure size 432x288 with 1 Axes>"
      ]
     },
     "metadata": {},
     "output_type": "display_data"
    }
   ],
   "source": [
    "import pandas as pd\n",
    "import numpy as np\n",
    "from sklearn.model_selection import train_test_split\n",
    "from sklearn.linear_model import LinearRegression\n",
    "from sklearn.metrics import mean_squared_error\n",
    "import matplotlib.pyplot as plt\n",
    "\n",
    "# a) Import the given \"Salary_Data.csv\"\n",
    "salary_data_df = pd.read_csv(\"Salary_Data.csv\")\n",
    "\n",
    "# b) Split the data into train and test partitions (1/3 as test data)\n",
    "X = salary_data_df.iloc[:, :-1]  # Independent variable (YearsExperience)\n",
    "y = salary_data_df.iloc[:, 1]    # Dependent variable (Salary)\n",
    "X_train, X_test, y_train, y_test = train_test_split(X, y, test_size=1/3, random_state=0)\n",
    "\n",
    "# c) Train and predict the model (Linear Regression)\n",
    "regressor = LinearRegression()\n",
    "regressor.fit(X_train, y_train)\n",
    "y_pred_train = regressor.predict(X_train)\n",
    "y_pred_test = regressor.predict(X_test)\n",
    "\n",
    "# d) Calculate the mean squared error\n",
    "mse_train = mean_squared_error(y_train, y_pred_train)\n",
    "mse_test = mean_squared_error(y_test, y_pred_test)\n",
    "print(\"Mean Squared Error (Train):\", mse_train)\n",
    "print(\"Mean Squared Error (Test):\", mse_test)\n",
    "\n",
    "# e) Visualize both train and test data using scatter plot\n",
    "plt.scatter(X_train, y_train, color='blue', label='Train Data')\n",
    "plt.scatter(X_test, y_test, color='red', label='Test Data')\n",
    "plt.plot(X_train, y_pred_train, color='green', label='Regression Line (Train)')\n",
    "plt.xlabel('Years of Experience')\n",
    "plt.ylabel('Salary')\n",
    "plt.title('Linear Regression: Salary vs. Years of Experience')\n",
    "plt.legend()\n",
    "plt.show()"
   ]
  },
  {
   "cell_type": "code",
   "execution_count": null,
   "metadata": {},
   "outputs": [],
   "source": []
  }
 ],
 "metadata": {
  "kernelspec": {
   "display_name": "Python 3",
   "language": "python",
   "name": "python3"
  },
  "language_info": {
   "codemirror_mode": {
    "name": "ipython",
    "version": 3
   },
   "file_extension": ".py",
   "mimetype": "text/x-python",
   "name": "python",
   "nbconvert_exporter": "python",
   "pygments_lexer": "ipython3",
   "version": "3.6.5"
  }
 },
 "nbformat": 4,
 "nbformat_minor": 2
}
