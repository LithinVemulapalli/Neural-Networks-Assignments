{
 "cells": [
  {
   "cell_type": "code",
   "execution_count": 6,
   "metadata": {},
   "outputs": [
    {
     "name": "stdout",
     "output_type": "stream",
     "text": [
      "Employee Count: 2\n",
      "Average Salary: $35000.00\n"
     ]
    }
   ],
   "source": [
    "class Employee:\n",
    "    empCount = 0  # Data member to count the number of Employees\n",
    "\n",
    "    def __init__(employer, name, family, salary, department):\n",
    "        \"\"\"\n",
    "        Constructor to initialize name, family, salary, department\n",
    "        \"\"\"\n",
    "        employer.name = name\n",
    "        employer.family = family\n",
    "        employer.salary = salary\n",
    "        employer.department = department\n",
    "        Employee.empCount += 1  # Increment employee count\n",
    "\n",
    "    def avgSalary(employer):\n",
    "        \"\"\"\n",
    "        Function to calculate average salary\n",
    "        \"\"\"\n",
    "        return employer.salary / Employee.empCount\n",
    "\n",
    "class FulltimeEmployee(Employee):\n",
    "    \"\"\"\n",
    "    Fulltime Employee class inheriting from Employee class\n",
    "    \"\"\"\n",
    "    pass\n",
    "\n",
    "# Create instances of Employee and Fulltime Employee classes\n",
    "emp1 = Employee(\"Ravi\", \"Sam\", 70000, \"IT\")\n",
    "emp2 = FulltimeEmployee(\"Ravi\", \"Sam\", 50000, \"Marketing\")\n",
    "\n",
    "# Call member functions\n",
    "print(f\"Employee Count: {Employee.empCount}\")\n",
    "print(f\"Average Salary: ${emp1.avgSalary():.2f}\")"
   ]
  },
  {
   "cell_type": "code",
   "execution_count": 7,
   "metadata": {},
   "outputs": [],
   "source": [
    "import numpy as np"
   ]
  },
  {
   "cell_type": "code",
   "execution_count": 9,
   "metadata": {},
   "outputs": [
    {
     "name": "stdout",
     "output_type": "stream",
     "text": [
      "[[ 7.55563302  0.          0.          0.          8.53607647]\n",
      " [ 4.80984973  0.          0.          0.          6.83311141]\n",
      " [10.50785424  0.          0.          0.          3.66641356]\n",
      " [11.62746082  0.          0.          0.         14.74818484]]\n"
     ]
    }
   ],
   "source": [
    "# Create a random vector of size 20 with floats in range 1-20\n",
    "array = np.random.rand(20) * 20 + 1\n",
    "\n",
    "# Reshape the array to 4 by 5\n",
    "array = array.reshape(4, 5)\n",
    "\n",
    "# Replace the max in each row by 0 (axis=1) without using a loop\n",
    "array[np.arange(array.shape[0])[:, None], np.argmax(array, axis=1)] = 0\n",
    "\n",
    "print(array)"
   ]
  }
 ],
 "metadata": {
  "kernelspec": {
   "display_name": "Python 3",
   "language": "python",
   "name": "python3"
  },
  "language_info": {
   "codemirror_mode": {
    "name": "ipython",
    "version": 3
   },
   "file_extension": ".py",
   "mimetype": "text/x-python",
   "name": "python",
   "nbconvert_exporter": "python",
   "pygments_lexer": "ipython3",
   "version": "3.6.5"
  }
 },
 "nbformat": 4,
 "nbformat_minor": 2
}
